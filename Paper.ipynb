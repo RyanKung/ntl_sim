{
 "cells": [
  {
   "cell_type": "markdown",
   "metadata": {},
   "source": []
  },
  {
   "cell_type": "markdown",
   "metadata": {},
   "source": [
    "$$\n",
    "V_{NTL}(t)=P_{NTL}(t) \\times N_{total \\ supply(t)}\n",
    "$$"
   ]
  },
  {
   "cell_type": "markdown",
   "metadata": {},
   "source": [
    "$$\n",
    "\\begin{equation}\n",
    "P_{NTL}(t)=\\sum_i^n(W_{C_i}\\times P_{C_n})=\n",
    " \\left[\n",
    " \\begin{matrix}\n",
    " W_{C_1}(t) \\\\\n",
    " W_{C_2}(t) \\\\\n",
    " \\vdots\\\\\n",
    " W_{C_n}(t)\n",
    " \\end{matrix}\n",
    " \\right] \\times \\left[\\begin{matrix}P_{C_1}(t) & P_{C_2}(t) &\\cdots & P_{C_n}(t)\\end{matrix} \\right]\n",
    "  \\end{equation}\\ \\big{|}\\ C_n \\in Components\n",
    " \\tag{1}\n",
    "$$\n",
    "\n",
    "$$\n",
    "\\mathbb{W} =  \\left[\n",
    " \\begin{matrix}\n",
    " W_{C_1}(t) \\\\\n",
    " W_{C_2}(t) \\\\\n",
    " \\vdots\\\\\n",
    " W_{C_n}(t)\n",
    " \\end{matrix}\n",
    " \\right]\n",
    "$$"
   ]
  },
  {
   "cell_type": "markdown",
   "metadata": {},
   "source": [
    "$$\n",
    "\\begin{equation}\n",
    "P_{NTL}(t)=\\sum_i^n(W_{C_i}\\times P_{C_n})=  \\mathbb{W}^T(t) \\times \\mathbb{P}(t)\n",
    "  \\end{equation}\\ \\big{|}\\ C_n \\in Components\n",
    "$$"
   ]
  },
  {
   "cell_type": "markdown",
   "metadata": {},
   "source": [
    "$$\n",
    "W_{C_n}(t)=\\frac{Reserve_{C_i}}{total\\ supply} \\tag{2}\n",
    "$$\n",
    "\n",
    "$$\n",
    "Reserve_{C_n}(t) = \\sum_i^t(bid_t - C_{redeemed})\n",
    "$$\n",
    "\n",
    "$$\n",
    "total\\ supply_{C_n}(t) = \\sum_i^t(minted - N_{burned})\n",
    "$$\n",
    "\n",
    "$$\n",
    "W_{C_n}(t)=\\sum_i^t \\frac{(bid_i - C_{redeemed_{C_n}})}{(N_{minted}(i) - N_{burned}(i))} \\tag{3}\n",
    "$$"
   ]
  },
  {
   "cell_type": "markdown",
   "metadata": {},
   "source": [
    "\n",
    "$$\n",
    "C_{redeemed} =\\frac{N_{burned}}{N_{total\\ supply}} \\times C_{reserve}\n",
    "$$\n",
    "\n"
   ]
  },
  {
   "cell_type": "markdown",
   "metadata": {},
   "source": [
    "$$\n",
    "W_{C_n}(t)=\\sum_i^t \\frac{(bid_i - \\frac{N_{burned}(i)}{(N_{minted}(i) - N_{burned}(i))} \\times C_{reserve})}{(N_{minted}(i) - N_{burned}(i))}\n",
    "$$"
   ]
  },
  {
   "cell_type": "markdown",
   "metadata": {},
   "source": [
    "$$\n",
    "W_{C_n}(t)=\\sum_i^t \\left[\\frac{bid_t}{(N_{minted}(t) - N_{burned}(t)} - N_{burned}(t) \\times C_{reserve}\\right] \n",
    "$$"
   ]
  },
  {
   "cell_type": "markdown",
   "metadata": {},
   "source": [
    "$$\n",
    "W_{C_n}(t)=W_{C_n}(t-1) + \\frac{bid_t}{(N_{minted}(t) - N_{burned}(t)} - N_{burned}(t) \\times C_{reserve}\n",
    "$$"
   ]
  },
  {
   "cell_type": "markdown",
   "metadata": {},
   "source": [
    "$$\n",
    "\\begin{equation}\n",
    "P_{NTL}(t)=\\sum_i^n(W_{C_i}\\times P_{C_n})=\n",
    " \\left[\n",
    " \\begin{matrix}\n",
    " W_{C_1}(t-1) & \\frac{bid_{C_1}(t)}{N_{minted}(t)} & - N_{burned}(t)\\\\\n",
    " W_{C_2}(t-1) & \\frac{bid_{C_2}(t)}{N_{minted}(t)} & - N_{burned}(t)\\\\\n",
    " \\vdots & \\vdots \\\\\n",
    " W_{C_n}(t-1) & \\frac{bid_{C_3}(t)}{N_{minted}(t)} & - N_{burned}(t)\\\\\n",
    " \\end{matrix} \n",
    " \\right] \\times \\mathbb{P}\n",
    "  \\end{equation}\\ \\big{|}\\ C_n \\in Components\n",
    "$$"
   ]
  },
  {
   "cell_type": "markdown",
   "metadata": {},
   "source": [
    "$$\n",
    "\\begin{equation}\n",
    "P_{NTL}(t)=\\sum_i^n(W_{C_i}\\times P_{C_n})=\n",
    " \\left[\n",
    " \\begin{matrix}\n",
    " W_{C_1}(t-1)  & - N_{burned}(t)\\\\\n",
    " W_{C_2}(t-1) & - N_{burned}(t)\\\\\n",
    " \\vdots & \\vdots \\\\\n",
    " W_{C_n}(t-1)  & - N_{burned}(t)\\\\\n",
    " \\end{matrix} \n",
    " \\right] \\times \\mathbb{P} + \\left[\n",
    " \\begin{matrix}\n",
    "\\frac{bid_{C_1}(t)}{N_{minted}(t)}\\\\\n",
    "\\frac{bid_{C_2}(t)}{N_{minted}(t)}\\\\\n",
    " \\vdots & \\vdots \\\\\n",
    " \\frac{bid_{C_3}(t)}{N_{minted}(t)}\\\\\n",
    " \\end{matrix} \n",
    " \\right] \\times \\mathbb{P}\n",
    "  \\end{equation}\\ \\big{|}\\ C_n \\in Components\n",
    "$$"
   ]
  },
  {
   "cell_type": "markdown",
   "metadata": {},
   "source": [
    "$$\n",
    "\\begin{equation}\n",
    "P_{NTL}(t)=\\sum_i^n(W_{C_i}\\times P_{C_n})=\n",
    " \\left[\n",
    " \\begin{matrix}\n",
    " W_{C_1}(t-1)  & - N_{burned}(t)\\\\\n",
    " W_{C_2}(t-1) & - N_{burned}(t)\\\\\n",
    " \\vdots & \\vdots \\\\\n",
    " W_{C_n}(t-1)  & - N_{burned}(t)\\\\\n",
    " \\end{matrix} \n",
    " \\right] \\times \\mathbb{P} + \\left[\n",
    " \\begin{matrix}\n",
    "bid_{C_1}(t)\\\\\n",
    "bid_{C_2(t)}\\\\\n",
    " \\vdots \\\\\n",
    " bid_{C_3}(t)\\\\\n",
    " \\end{matrix} \n",
    " \\right] \\times \\mathbb{P} . {N_{minted}}\n",
    "  \\end{equation}\\ \\big{|}\\ C_n \\in Components\n",
    " \\tag{4}\n",
    "$$"
   ]
  },
  {
   "cell_type": "markdown",
   "metadata": {},
   "source": [
    "$$\n",
    "\\begin{equation}\n",
    "\\bar{P}_{bid}(t)=\\sum_i^n(bid_{C_i}\\times P_{C_n})=\n",
    " \\left[\n",
    " \\begin{matrix}\n",
    " bid_{C_1}(t) \\\\\n",
    " bid_{C_2}(t) \\\\\n",
    " \\vdots\\\\\n",
    " bid_{C_n}(t)\n",
    " \\end{matrix}\n",
    " \\right] \\times \\mathbb{P}\n",
    "  \\end{equation}\\ \\big{|}\\ C_n \\in Components\n",
    " \\tag{5}\n",
    "$$"
   ]
  },
  {
   "cell_type": "markdown",
   "metadata": {},
   "source": [
    "$$\n",
    "\\begin{equation}\n",
    "P_{NTL}(t)=\\sum_i^n(W_{C_i}\\times P_{C_n})=\n",
    " \\left[\n",
    " \\begin{matrix}\n",
    " W_{C_1}(t-1)  & - N_{burned}(t)\\\\\n",
    " W_{C_2}(t-1) & - N_{burned}(t)\\\\\n",
    " \\vdots & \\vdots \\\\\n",
    " W_{C_n}(t-1)  & - N_{burned}(t)\\\\\n",
    " \\end{matrix} \n",
    " \\right] \\times \\mathbb{P} + \n",
    " \\bar{P}_{bid}(t) \\times \\mathbb{P} . {N_{minted}}\n",
    "  \\end{equation}\\ \\big{|}\\ C_n \\in Components\n",
    " \\tag{4}\n",
    "$$"
   ]
  },
  {
   "cell_type": "markdown",
   "metadata": {},
   "source": [
    "$$\n",
    "\\begin{equation}\n",
    "P_{NTL}(t)=\\sum_i^n(W_{C_i}\\times P_{C_n})=\n",
    " \\left[\n",
    " \\begin{matrix}\n",
    " W_{C_1}(t-1)  \\\\\n",
    " W_{C_2}(t-1) \\\\\n",
    " \\vdots  \\\\\n",
    " W_{C_n}(t-1) \\\\\n",
    " \\end{matrix} \n",
    " \\right] \\times \\mathbb{P} - \n",
    "     \\left[\n",
    " \\begin{matrix}\n",
    "  N_{burned}(t)\\\\\n",
    " N_{burned}(t)\\\\\n",
    " \\vdots \\\\\n",
    " - N_{burned}(t)\\\\\n",
    " \\end{matrix} \n",
    " \\right] \\times \\mathbb{P}+ \n",
    " \\bar{P}_{bid}(t) \\times \\mathbb{P} . {N_{minted}}\n",
    "  \\end{equation}\\ \\big{|}\\ C_n \\in Components\n",
    " \\tag{4}\n",
    "$$"
   ]
  },
  {
   "cell_type": "markdown",
   "metadata": {},
   "source": [
    "$$\n",
    "\\begin{equation}\n",
    "P_{NTL}(t)-P_{NTL}(t-1)=\\Delta P_{NTL}(t) = -\n",
    "     \\left[\n",
    " \\begin{matrix}\n",
    "  N_{burned}(t)\\\\\n",
    " N_{burned}(t)\\\\\n",
    " \\vdots \\\\\n",
    "  N_{burned}(t)\\\\\n",
    " \\end{matrix} \n",
    " \\right] \\times \\mathbb{P}+ \n",
    " \\bar{P}_{bid}(t) \\times \\mathbb{P} . {N_{minted}}\n",
    "  \\end{equation}\\ \\big{|}\\ C_n \\in Components\n",
    " \\tag{4}\n",
    "$$"
   ]
  },
  {
   "cell_type": "markdown",
   "metadata": {},
   "source": [
    "$$\n",
    "\\begin{equation}\n",
    "\\Delta P_{NTL}(t) =  \n",
    "\\left\\{ \\bar{P}_{bid}(t) - \n",
    "     \\left[\n",
    " \\begin{matrix}\n",
    "  N_{burned}(t)\\\\\n",
    " N_{burned}(t)\\\\\n",
    " \\vdots \\\\\n",
    "  N_{burned}(t)\\\\\n",
    " \\end{matrix} \n",
    " \\right] \\right\\} \\times \\mathbb{P} . {N_{minted}}\n",
    "  \\end{equation}\\ \n",
    " \\tag{4}\n",
    "$$"
   ]
  },
  {
   "cell_type": "markdown",
   "metadata": {},
   "source": [
    "$$\n",
    "\\begin{equation}\n",
    "\\Delta P_{NTL}(t) =  \n",
    "\\left[ \\bar{P}_{bid}(t) - \n",
    "     \\mathbb{N}_{burned} \\right] \\times \\mathbb{P} . {N_{minted}}\n",
    "  \\end{equation}\\ \n",
    " \\tag{4}\n",
    "$$"
   ]
  },
  {
   "cell_type": "markdown",
   "metadata": {},
   "source": [
    "$$\n",
    "Auction(t, C) = Store(C) \\circ N_{minted}\\\\\n",
    "Redeem(t, N) = Burn(N) \\circ C_{redeemed}\n",
    "$$"
   ]
  },
  {
   "cell_type": "code",
   "execution_count": null,
   "metadata": {},
   "outputs": [],
   "source": []
  },
  {
   "cell_type": "markdown",
   "metadata": {},
   "source": [
    "$$\n",
    "V_{NTL}(t)=P_{NTL}(t) \\times N_{total \\ supply(t)} \\\\\n",
    "\\Delta V_{NTL}(t)=\\Delta P_{NTL}(t) \\times N_{total \\ supply(t)}\\\\\n",
    "\\Delta P_{NTL}(t) = \\frac {\\sum_i^c\\left[C_{reserve_i} \\times \\Delta P_{C_i}\\right]}{total\\ supply} \\\\\n",
    "\\Delta V_{NTL}(t)=\\sum_i^c\\left[C_{reserve_i} \\times \\Delta P_{C_i}\\right]\n",
    "$$"
   ]
  },
  {
   "cell_type": "code",
   "execution_count": null,
   "metadata": {},
   "outputs": [],
   "source": []
  },
  {
   "cell_type": "markdown",
   "metadata": {},
   "source": [
    "$$\n",
    "\\Delta P_{NTL}(t) = \\sum_i^c{C_{reserve_i} \\times \\Delta P_{C_i}}\\\\\n",
    "Auction(N, C) \\iff \\Delta P_{NTL}(t) < 0\\\\\n",
    "Redeem(N, C) \\iff \\Delta P_{NTL}(t) > 0\\\\\n",
    "$$"
   ]
  },
  {
   "cell_type": "code",
   "execution_count": null,
   "metadata": {},
   "outputs": [],
   "source": []
  }
 ],
 "metadata": {
  "kernelspec": {
   "display_name": "Python 3",
   "language": "python",
   "name": "python3"
  },
  "language_info": {
   "codemirror_mode": {
    "name": "ipython",
    "version": 3
   },
   "file_extension": ".py",
   "mimetype": "text/x-python",
   "name": "python",
   "nbconvert_exporter": "python",
   "pygments_lexer": "ipython3",
   "version": "3.6.3"
  }
 },
 "nbformat": 4,
 "nbformat_minor": 2
}
